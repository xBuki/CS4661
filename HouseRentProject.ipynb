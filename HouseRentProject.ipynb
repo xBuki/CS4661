{
 "cells": [
  {
   "cell_type": "markdown",
   "id": "29d00f47",
   "metadata": {},
   "source": [
    "Kindly include any necessary imports essential for the completion of this project:"
   ]
  },
  {
   "cell_type": "code",
   "execution_count": 32,
   "id": "44c952e7",
   "metadata": {},
   "outputs": [],
   "source": [
    "import numpy as np\n",
    "import pandas as pd\n",
    "from sklearn.datasets import load_iris\n",
    "from sklearn.model_selection import train_test_split\n",
    "from sklearn.preprocessing import LabelEncoder\n",
    "from sklearn.neighbors import KNeighborsClassifier\n",
    "from sklearn.metrics import accuracy_score, classification_report\n",
    "from sklearn.linear_model import LinearRegression\n",
    "from sklearn.metrics import mean_squared_error, classification_report\n",
    "from sklearn.linear_model import LogisticRegression"
   ]
  },
  {
   "cell_type": "markdown",
   "id": "376ebd12",
   "metadata": {},
   "source": [
    "We will access our shared GitHub repository to read the csv, which is accessible to all of you."
   ]
  },
  {
   "cell_type": "code",
   "execution_count": 33,
   "id": "b1d6f52a",
   "metadata": {},
   "outputs": [],
   "source": [
    "df = pd.read_csv(\"https://raw.githubusercontent.com/xBuki/CS4661/main/HouseRentMisc/House_Rent_Dataset.csv\")"
   ]
  },
  {
   "cell_type": "code",
   "execution_count": 34,
   "id": "299ee7a5",
   "metadata": {
    "scrolled": false
   },
   "outputs": [
    {
     "name": "stdout",
     "output_type": "stream",
     "text": [
      "       Posted On  BHK   Rent  Size            Floor    Area Type  \\\n",
      "0     2022-05-18    2  10000  1100  Ground out of 2   Super Area   \n",
      "1     2022-05-13    2  20000   800       1 out of 3   Super Area   \n",
      "2     2022-05-16    2  17000  1000       1 out of 3   Super Area   \n",
      "3     2022-07-04    2  10000   800       1 out of 2   Super Area   \n",
      "4     2022-05-09    2   7500   850       1 out of 2  Carpet Area   \n",
      "...          ...  ...    ...   ...              ...          ...   \n",
      "4741  2022-05-18    2  15000  1000       3 out of 5  Carpet Area   \n",
      "4742  2022-05-15    3  29000  2000       1 out of 4   Super Area   \n",
      "4743  2022-07-10    3  35000  1750       3 out of 5  Carpet Area   \n",
      "4744  2022-07-06    3  45000  1500     23 out of 34  Carpet Area   \n",
      "4745  2022-05-04    2  15000  1000       4 out of 5  Carpet Area   \n",
      "\n",
      "                 Area Locality       City Furnishing Status  Tenant Preferred  \\\n",
      "0                       Bandel    Kolkata       Unfurnished  Bachelors/Family   \n",
      "1     Phool Bagan, Kankurgachi    Kolkata    Semi-Furnished  Bachelors/Family   \n",
      "2      Salt Lake City Sector 2    Kolkata    Semi-Furnished  Bachelors/Family   \n",
      "3                  Dumdum Park    Kolkata       Unfurnished  Bachelors/Family   \n",
      "4                South Dum Dum    Kolkata       Unfurnished         Bachelors   \n",
      "...                        ...        ...               ...               ...   \n",
      "4741              Bandam Kommu  Hyderabad    Semi-Furnished  Bachelors/Family   \n",
      "4742      Manikonda, Hyderabad  Hyderabad    Semi-Furnished  Bachelors/Family   \n",
      "4743      Himayath Nagar, NH 7  Hyderabad    Semi-Furnished  Bachelors/Family   \n",
      "4744                Gachibowli  Hyderabad    Semi-Furnished            Family   \n",
      "4745           Suchitra Circle  Hyderabad       Unfurnished         Bachelors   \n",
      "\n",
      "      Bathroom Point of Contact  \n",
      "0            2    Contact Owner  \n",
      "1            1    Contact Owner  \n",
      "2            1    Contact Owner  \n",
      "3            1    Contact Owner  \n",
      "4            1    Contact Owner  \n",
      "...        ...              ...  \n",
      "4741         2    Contact Owner  \n",
      "4742         3    Contact Owner  \n",
      "4743         3    Contact Agent  \n",
      "4744         2    Contact Agent  \n",
      "4745         2    Contact Owner  \n",
      "\n",
      "[4746 rows x 12 columns]\n"
     ]
    }
   ],
   "source": [
    "print(df)\n",
    "iris = load_iris()"
   ]
  },
  {
   "cell_type": "markdown",
   "id": "26939795",
   "metadata": {},
   "source": [
    "KNN Classifier:"
   ]
  },
  {
   "cell_type": "code",
   "execution_count": 35,
   "id": "3c3673a9",
   "metadata": {
    "scrolled": true
   },
   "outputs": [
    {
     "name": "stdout",
     "output_type": "stream",
     "text": [
      "Accuracy: 0.83\n",
      "Classification Report:\n",
      "               precision    recall  f1-score   support\n",
      "\n",
      "Contact Agent       0.75      0.71      0.73       307\n",
      "Contact Owner       0.87      0.89      0.88       643\n",
      "\n",
      "     accuracy                           0.83       950\n",
      "    macro avg       0.81      0.80      0.80       950\n",
      " weighted avg       0.83      0.83      0.83       950\n",
      "\n"
     ]
    }
   ],
   "source": [
    "features = df[['BHK', 'Rent', 'Size', 'Bathroom']]  \n",
    "target = df['Point of Contact']\n",
    "\n",
    "le = LabelEncoder()\n",
    "target_numerical = le.fit_transform(target)\n",
    "\n",
    "X_train, X_test, y_train, y_test = train_test_split(features, target_numerical, test_size=0.2, random_state=42)\n",
    "\n",
    "knn = KNeighborsClassifier(n_neighbors=3)\n",
    "\n",
    "knn.fit(X_train, y_train)\n",
    "\n",
    "y_pred_numerical = knn.predict(X_test)\n",
    "\n",
    "y_pred_labels = le.inverse_transform(y_pred_numerical)\n",
    "\n",
    "y_test_labels = le.inverse_transform(y_test)\n",
    "\n",
    "accuracy = accuracy_score(y_test, y_pred_numerical)\n",
    "print(f'Accuracy: {accuracy:.2f}')\n",
    "\n",
    "print('Classification Report:')\n",
    "print(classification_report(y_test_labels, y_pred_labels))"
   ]
  },
  {
   "cell_type": "markdown",
   "id": "73e74f14",
   "metadata": {},
   "source": [
    "Logistic Regression:"
   ]
  },
  {
   "cell_type": "code",
   "execution_count": 36,
   "id": "8a01d774",
   "metadata": {},
   "outputs": [
    {
     "name": "stdout",
     "output_type": "stream",
     "text": [
      "Accuracy: 0.81\n",
      "Classification Report:\n",
      "               precision    recall  f1-score   support\n",
      "\n",
      "Contact Agent       0.75      0.61      0.67       307\n",
      "Contact Owner       0.83      0.90      0.86       643\n",
      "\n",
      "     accuracy                           0.81       950\n",
      "    macro avg       0.79      0.75      0.77       950\n",
      " weighted avg       0.80      0.81      0.80       950\n",
      "\n"
     ]
    }
   ],
   "source": [
    "features = df[['BHK', 'Rent', 'Size', 'Bathroom']]  \n",
    "target = df['Point of Contact']\n",
    "\n",
    "le = LabelEncoder()\n",
    "target_numerical = le.fit_transform(target)\n",
    "\n",
    "X_train, X_test, y_train, y_test = train_test_split(features, target_numerical, test_size=0.2, random_state=42)\n",
    "\n",
    "logistic_reg = LogisticRegression()\n",
    "\n",
    "logistic_reg.fit(X_train, y_train)\n",
    "\n",
    "y_pred = logistic_reg.predict(X_test)\n",
    "\n",
    "y_test_labels = le.inverse_transform(y_test)\n",
    "\n",
    "accuracy = accuracy_score(y_test, y_pred)\n",
    "print(f'Accuracy: {accuracy:.2f}')\n",
    "\n",
    "print('Classification Report:')\n",
    "print(classification_report(y_test_labels, le.inverse_transform(y_pred)))"
   ]
  },
  {
   "cell_type": "code",
   "execution_count": null,
   "id": "7f1881f8",
   "metadata": {},
   "outputs": [],
   "source": []
  }
 ],
 "metadata": {
  "kernelspec": {
   "display_name": "Python 3 (ipykernel)",
   "language": "python",
   "name": "python3"
  },
  "language_info": {
   "codemirror_mode": {
    "name": "ipython",
    "version": 3
   },
   "file_extension": ".py",
   "mimetype": "text/x-python",
   "name": "python",
   "nbconvert_exporter": "python",
   "pygments_lexer": "ipython3",
   "version": "3.11.5"
  }
 },
 "nbformat": 4,
 "nbformat_minor": 5
}
