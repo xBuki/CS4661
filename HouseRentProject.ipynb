{
 "cells": [
  {
   "cell_type": "markdown",
   "id": "29d00f47",
   "metadata": {},
   "source": [
    "Kindly include any necessary imports essential for the completion of this project:"
   ]
  },
  {
   "cell_type": "code",
   "execution_count": 7,
   "id": "44c952e7",
   "metadata": {},
   "outputs": [],
   "source": [
    "import numpy as np\n",
    "import pandas as pd\n",
    "from sklearn.datasets import load_iris"
   ]
  },
  {
   "cell_type": "markdown",
   "id": "376ebd12",
   "metadata": {},
   "source": [
    "We will access our shared GitHub repository to read the csv, which is accessible to all of you."
   ]
  },
  {
   "cell_type": "code",
   "execution_count": 9,
   "id": "b1d6f52a",
   "metadata": {},
   "outputs": [],
   "source": [
    "df= pd.read_csv(\"https://raw.githubusercontent.com/xBuki/CS4661/main/HouseRentMisc/House_Rent_Dataset.csv\", delimiter=',', skiprows=32, quotechar='\"')"
   ]
  },
  {
   "cell_type": "code",
   "execution_count": 10,
   "id": "299ee7a5",
   "metadata": {},
   "outputs": [
    {
     "name": "stdout",
     "output_type": "stream",
     "text": [
      "      2022-06-26  2  15000   900  Ground out of 2  Carpet Area  \\\n",
      "0     2022-06-16  2   6000   550       1 out of 1   Super Area   \n",
      "1     2022-06-29  2   5000   500  Ground out of 2  Carpet Area   \n",
      "2     2022-05-10  3  22000  1100       2 out of 3  Carpet Area   \n",
      "3     2022-05-12  2  15000   850       1 out of 2  Carpet Area   \n",
      "4     2022-06-03  2  12500   800       2 out of 2  Carpet Area   \n",
      "...          ... ..    ...   ...              ...          ...   \n",
      "4709  2022-05-18  2  15000  1000       3 out of 5  Carpet Area   \n",
      "4710  2022-05-15  3  29000  2000       1 out of 4   Super Area   \n",
      "4711  2022-07-10  3  35000  1750       3 out of 5  Carpet Area   \n",
      "4712  2022-07-06  3  45000  1500     23 out of 34  Carpet Area   \n",
      "4713  2022-05-04  2  15000  1000       4 out of 5  Carpet Area   \n",
      "\n",
      "     Project Kaikhali, Vip Road    Kolkata     Unfurnished  Bachelors/Family  \\\n",
      "0                      Vip Road    Kolkata  Semi-Furnished  Bachelors/Family   \n",
      "1                      Baruipur    Kolkata     Unfurnished  Bachelors/Family   \n",
      "2                   Dumdum Park    Kolkata     Unfurnished  Bachelors/Family   \n",
      "3                     Sreebhumi    Kolkata  Semi-Furnished  Bachelors/Family   \n",
      "4                   Shyam Bazar    Kolkata     Unfurnished         Bachelors   \n",
      "...                         ...        ...             ...               ...   \n",
      "4709               Bandam Kommu  Hyderabad  Semi-Furnished  Bachelors/Family   \n",
      "4710       Manikonda, Hyderabad  Hyderabad  Semi-Furnished  Bachelors/Family   \n",
      "4711       Himayath Nagar, NH 7  Hyderabad  Semi-Furnished  Bachelors/Family   \n",
      "4712                 Gachibowli  Hyderabad  Semi-Furnished            Family   \n",
      "4713            Suchitra Circle  Hyderabad     Unfurnished         Bachelors   \n",
      "\n",
      "      2.1  Contact Owner  \n",
      "0       1  Contact Owner  \n",
      "1       2  Contact Owner  \n",
      "2       1  Contact Owner  \n",
      "3       1  Contact Owner  \n",
      "4       1  Contact Agent  \n",
      "...   ...            ...  \n",
      "4709    2  Contact Owner  \n",
      "4710    3  Contact Owner  \n",
      "4711    3  Contact Agent  \n",
      "4712    2  Contact Agent  \n",
      "4713    2  Contact Owner  \n",
      "\n",
      "[4714 rows x 12 columns]\n"
     ]
    }
   ],
   "source": [
    "print(df)\n",
    "iris = load_iris()"
   ]
  },
  {
   "cell_type": "code",
   "execution_count": null,
   "id": "a6d85913",
   "metadata": {},
   "outputs": [],
   "source": []
  }
 ],
 "metadata": {
  "kernelspec": {
   "display_name": "Python 3 (ipykernel)",
   "language": "python",
   "name": "python3"
  },
  "language_info": {
   "codemirror_mode": {
    "name": "ipython",
    "version": 3
   },
   "file_extension": ".py",
   "mimetype": "text/x-python",
   "name": "python",
   "nbconvert_exporter": "python",
   "pygments_lexer": "ipython3",
   "version": "3.11.5"
  }
 },
 "nbformat": 4,
 "nbformat_minor": 5
}
