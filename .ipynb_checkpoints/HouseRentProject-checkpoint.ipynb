{
 "cells": [
  {
   "cell_type": "markdown",
   "id": "29d00f47",
   "metadata": {},
   "source": [
    "Kindly include any necessary imports essential for the completion of this project:"
   ]
  },
  {
   "cell_type": "code",
   "execution_count": 1,
   "id": "44c952e7",
   "metadata": {},
   "outputs": [],
   "source": [
    "import numpy as np\n",
    "import pandas as pd\n",
    "from sklearn.datasets import load_iris"
   ]
  },
  {
   "cell_type": "markdown",
   "id": "376ebd12",
   "metadata": {},
   "source": [
    "We will access our shared GitHub repository to read the csv, which is accessible to all of you."
   ]
  },
  {
   "cell_type": "code",
   "execution_count": null,
   "id": "b1d6f52a",
   "metadata": {},
   "outputs": [],
   "source": [
    "df = pd.read_csv(\"https://github.com/xBuki/CS4661/blob/main/HouseRentMisc/House_Rent_Dataset.csv\", delimiter=',', skiprows=32, quotechar='\"')"
   ]
  },
  {
   "cell_type": "code",
   "execution_count": null,
   "id": "299ee7a5",
   "metadata": {},
   "outputs": [],
   "source": [
    "print(df)\n",
    "iris = load_iris()"
   ]
  },
  {
   "cell_type": "code",
   "execution_count": null,
   "id": "a6d85913",
   "metadata": {},
   "outputs": [],
   "source": []
  }
 ],
 "metadata": {
  "kernelspec": {
   "display_name": "Python 3 (ipykernel)",
   "language": "python",
   "name": "python3"
  },
  "language_info": {
   "codemirror_mode": {
    "name": "ipython",
    "version": 3
   },
   "file_extension": ".py",
   "mimetype": "text/x-python",
   "name": "python",
   "nbconvert_exporter": "python",
   "pygments_lexer": "ipython3",
   "version": "3.11.5"
  }
 },
 "nbformat": 4,
 "nbformat_minor": 5
}
